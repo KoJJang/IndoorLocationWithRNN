{
 "cells": [
  {
   "cell_type": "code",
   "execution_count": 4,
   "metadata": {},
   "outputs": [
    {
     "name": "stderr",
     "output_type": "stream",
     "text": [
      "C:\\Users\\JSY\\AppData\\Roaming\\Python\\Python36\\site-packages\\keras\\models.py:318: UserWarning: Error in loading the saved optimizer state. As a result, your model is starting with a freshly initialized optimizer.\n",
      "  warnings.warn('Error in loading the saved optimizer '\n"
     ]
    },
    {
     "name": "stdout",
     "output_type": "stream",
     "text": [
      "===============================================\n",
      "=======================================\n",
      "INFO:tensorflow:Using the Keras model provided.\n",
      "INFO:tensorflow:Using default config.\n",
      "INFO:tensorflow:Using config: {'_model_dir': 'C:\\\\Anaconda3\\\\projects\\\\deep_learning_test\\\\estimator_real', '_tf_random_seed': None, '_save_summary_steps': 100, '_save_checkpoints_steps': None, '_save_checkpoints_secs': 600, '_session_config': None, '_keep_checkpoint_max': 5, '_keep_checkpoint_every_n_hours': 10000, '_log_step_count_steps': 100, '_train_distribute': None, '_device_fn': None, '_service': None, '_cluster_spec': <tensorflow.python.training.server_lib.ClusterSpec object at 0x000001BD2D8AE978>, '_task_type': 'worker', '_task_id': 0, '_global_id_in_cluster': 0, '_master': '', '_evaluation_master': '', '_is_chief': True, '_num_ps_replicas': 0, '_num_worker_replicas': 1}\n"
     ]
    }
   ],
   "source": [
    "from tensorflow.keras.layers import Dense, LSTM, Input, Embedding, Input\n",
    "from tensorflow.keras.models import Model\n",
    "from tensorflow import keras\n",
    "from keras.models import Sequential\n",
    "import tensorflow as tf\n",
    "\n",
    "from keras.models import load_model\n",
    "model = load_model('wifi_LSTM_model4.h5')\n",
    "\n",
    "temp_weights = [layer.get_weights() for layer in model.layers]\n",
    "\n",
    "# print(temp_weights)\n",
    "\n",
    "# Define the model\n",
    "model = keras.models.Sequential()\n",
    "\n",
    "\n",
    "model.add(LSTM(128, batch_input_shape = (1, 4, 15), stateful=True, name = \"input_node\"))\n",
    "# model.add(LSTM(128, input_shape = (WINDOW_SIZE, FEATURE_NUM), stateful=False)) # stateless 테스트용\n",
    "model.add(Dense(275 + 1, activation='softmax', name = \"output_node\"))\n",
    "model.compile(loss='categorical_crossentropy', optimizer='adam', metrics=['accuracy'])\n",
    "\n",
    "# inpt = Input(batch_input_shape = (15, ), name = \"input_node\")\n",
    "# lstm1 = LSTM(128, batch_input_shape = (1, 4, 15), stateful=True)(inpt)\n",
    "# output = Dense(275 + 1, activation='softmax', name = \"output_node\")(lstm1)\n",
    "# model = Model(inpt, output)\n",
    "# model.compile(loss='categorical_crossentropy', optimizer='adam', metrics=['accuracy'])\n",
    "\n",
    "for i in range(len(temp_weights)):\n",
    "    model.layers[i].set_weights(temp_weights[i])\n",
    "    \n",
    "print(\"===============================================\\n=======================================\")\n",
    "\n",
    "estimator_model = tf.keras.estimator.model_to_estimator(keras_model = model, \\\n",
    "                                                        model_dir = 'C:\\Anaconda3\\projects\\deep_learning_test\\estimator_real')"
   ]
  },
  {
   "cell_type": "code",
   "execution_count": null,
   "metadata": {},
   "outputs": [],
   "source": [
    "import medium_tffreeze_1\n",
    "\n",
    "medium_tffreeze_1.freeze_graph('./',\"output_node/Softmax\")"
   ]
  },
  {
   "cell_type": "code",
   "execution_count": 3,
   "metadata": {},
   "outputs": [
    {
     "name": "stderr",
     "output_type": "stream",
     "text": [
      "C:\\Users\\JSY\\AppData\\Roaming\\Python\\Python36\\site-packages\\keras\\models.py:318: UserWarning: Error in loading the saved optimizer state. As a result, your model is starting with a freshly initialized optimizer.\n",
      "  warnings.warn('Error in loading the saved optimizer '\n"
     ]
    }
   ],
   "source": [
    "# This was created with @warptime's help. Thank you!\n",
    "\n",
    "from tensorflow.python.framework import graph_util\n",
    "from tensorflow.python.framework import graph_io\n",
    "from keras.models import load_model\n",
    "from keras import backend as K\n",
    "import os.path as osp\n",
    "from tensorflow.keras.layers import Dense, LSTM, Input, Embedding, Input\n",
    "from tensorflow.keras.models import Model\n",
    "from tensorflow import keras\n",
    "from keras.models import Sequential\n",
    "import tensorflowjs as tfjs\n",
    "\n",
    "import tensorflow as tf\n",
    "\n",
    "model = load_model('wifi_LSTM_model4.h5')\n",
    "\n",
    "# print(temp_weights)\n",
    "\n",
    "# Define the model\n",
    "\n",
    "temp_weights = [layer.get_weights() for layer in model.layers]\n",
    "model = keras.models.Sequential()\n",
    "model.add(LSTM(128, batch_input_shape = (1, 4, 15), stateful=True, name = \"input_node\"))\n",
    "# model.add(LSTM(128, input_shape = (WINDOW_SIZE, FEATURE_NUM), stateful=False)) # stateless 테스트용\n",
    "model.add(Dense(275 + 1, activation='softmax', name = \"output_node\"))\n",
    "model.compile(loss='categorical_crossentropy', optimizer='adam', metrics=['accuracy'])\n",
    "for i in range(len(temp_weights)):\n",
    "    model.layers[i].set_weights(temp_weights[i])\n",
    "\n",
    "nb_classes = 276 # The number of output nodes in the model\n",
    "prefix_output_node_names_of_final_network = 'output_node/Softmax'\n",
    "\n",
    "tfjs.converters.save_keras_model(model, './')\n",
    "\n",
    "# K.set_learning_phase(0)\n",
    "\n",
    "# pred = [None]*nb_classes\n",
    "# pred_node_names = [None]*nb_classes\n",
    "\n",
    "# print(model.output)\n",
    "# print(model.output[0])\n",
    "# print(tf.identity(model.output[0],name=\"asd\"))\n",
    "# print(model.output[2])\n",
    "\n",
    "# for i in range(nb_classes):\n",
    "#     pred_node_names[i] = prefix_output_node_names_of_final_network+str(i)\n",
    "#     pred[i] = tf.identity(model.output[i], name=pred_node_names[i])\n",
    "# print('output nodes names are: ', pred_node_names)\n",
    "\n",
    "# sess = K.get_session()\n",
    "# output_fld = 'tensorflow_model/'\n",
    "# if not os.path.isdir(output_fld):\n",
    "#     os.mkdir(output_fld)\n",
    "# output_graph_name = saved_model_path + '.pb'\n",
    "# output_graph_suffix = '_inference'\n",
    "\n",
    "# constant_graph = graph_util.convert_variables_to_constants(sess, sess.graph.as_graph_def(), pred_node_names)\n",
    "# graph_io.write_graph(constant_graph, output_fld, output_graph_name, as_text=False)\n",
    "# print('saved the constant graph (ready for inference) at: ', osp.join(output_fld, output_graph_name))\n"
   ]
  },
  {
   "cell_type": "code",
   "execution_count": null,
   "metadata": {},
   "outputs": [],
   "source": []
  }
 ],
 "metadata": {
  "kernelspec": {
   "display_name": "Python 3",
   "language": "python",
   "name": "python3"
  },
  "language_info": {
   "codemirror_mode": {
    "name": "ipython",
    "version": 3
   },
   "file_extension": ".py",
   "mimetype": "text/x-python",
   "name": "python",
   "nbconvert_exporter": "python",
   "pygments_lexer": "ipython3",
   "version": "3.6.5"
  }
 },
 "nbformat": 4,
 "nbformat_minor": 2
}
